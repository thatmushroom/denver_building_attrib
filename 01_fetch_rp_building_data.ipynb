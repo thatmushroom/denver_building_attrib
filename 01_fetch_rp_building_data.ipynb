{
 "cells": [
  {
   "cell_type": "markdown",
   "metadata": {},
   "source": [
    "# Read data from realpage"
   ]
  },
  {
   "cell_type": "code",
   "execution_count": 2,
   "metadata": {},
   "outputs": [],
   "source": [
    "# %pip install matplotlib pandas requests"
   ]
  },
  {
   "cell_type": "code",
   "execution_count": 3,
   "metadata": {},
   "outputs": [],
   "source": [
    "import requests\n",
    "import pandas as pd"
   ]
  },
  {
   "cell_type": "code",
   "execution_count": 4,
   "metadata": {},
   "outputs": [],
   "source": [
    "# Format for getting market info\n",
    "markets_url = 'https://www.realpage.com/explore/assets/da-markets.json'\n",
    "#\n",
    "markets_list = requests.get(markets_url)\n",
    "# markets_list.json() # Enumerates all\n",
    "# Denver's market id is 19740"
   ]
  },
  {
   "cell_type": "code",
   "execution_count": 5,
   "metadata": {},
   "outputs": [],
   "source": [
    "market_id = 19740 \n",
    "properties_url = f\"https://dac.realpage.com/dac/markets/{market_id}/properties\"\n",
    "properties_list = requests.get(properties_url)"
   ]
  },
  {
   "cell_type": "code",
   "execution_count": 10,
   "metadata": {},
   "outputs": [
    {
     "data": {
      "text/plain": [
       "{'propertyId': 7971,\n",
       " 'propertyName': 'Copperwood Apartments',\n",
       " 'zipCode': '80003',\n",
       " 'address': '8200 Sheridan Boulevard',\n",
       " 'city': 'Westminster',\n",
       " 'state': 'CO',\n",
       " 'averageSquareFootage': 650,\n",
       " 'stories': '2',\n",
       " 'stable': 'stable',\n",
       " 'class': 'B',\n",
       " 'latitude': '39.846088',\n",
       " 'longitude': '-105.050888',\n",
       " 'imageHero': '/80/80/hero_565b36.jpg',\n",
       " 'heroSource': 'RealPage',\n",
       " 'submarketName': 'Arvada/Golden',\n",
       " 'unitcount': 360,\n",
       " 'yearBuilt': '1971',\n",
       " 'metricData': [{'metricCode': 'MPF-ANN-RENT-CHG',\n",
       "   'metricValue': 0.0458,\n",
       "   'metricValueFormatted': '4.58%'},\n",
       "  {'metricCode': 'MPF-RPSF',\n",
       "   'metricValue': 2.302,\n",
       "   'metricValueFormatted': '$2.302'},\n",
       "  {'metricCode': 'MPF-RENT',\n",
       "   'metricValue': 1497,\n",
       "   'metricValueFormatted': '$1,497'},\n",
       "  {'metricCode': 'MPF-OCC',\n",
       "   'metricValue': 0.95,\n",
       "   'metricValueFormatted': '95.0%'},\n",
       "  {'metricCode': 'MPF-HIST-CONC-RATIO',\n",
       "   'metricValue': None,\n",
       "   'metricValueFormatted': None},\n",
       "  {'metricCode': 'MPF-HIST-AVG-ASK-RPSF',\n",
       "   'metricValue': 2.302,\n",
       "   'metricValueFormatted': '$2.302'},\n",
       "  {'metricCode': 'MPF-HIST-ASK-RENT',\n",
       "   'metricValue': 1497,\n",
       "   'metricValueFormatted': '$1,497'}]}"
      ]
     },
     "execution_count": 10,
     "metadata": {},
     "output_type": "execute_result"
    }
   ],
   "source": [
    "properties_list.json()[0]"
   ]
  },
  {
   "cell_type": "code",
   "execution_count": 11,
   "metadata": {},
   "outputs": [
    {
     "data": {
      "text/plain": [
       "825"
      ]
     },
     "execution_count": 11,
     "metadata": {},
     "output_type": "execute_result"
    }
   ],
   "source": [
    "len(properties_list.json())"
   ]
  },
  {
   "cell_type": "code",
   "execution_count": 54,
   "metadata": {},
   "outputs": [
    {
     "name": "stdout",
     "output_type": "stream",
     "text": [
      "(825, 25)\n"
     ]
    },
    {
     "data": {
      "text/html": [
       "<div>\n",
       "<style scoped>\n",
       "    .dataframe tbody tr th:only-of-type {\n",
       "        vertical-align: middle;\n",
       "    }\n",
       "\n",
       "    .dataframe tbody tr th {\n",
       "        vertical-align: top;\n",
       "    }\n",
       "\n",
       "    .dataframe thead th {\n",
       "        text-align: right;\n",
       "    }\n",
       "</style>\n",
       "<table border=\"1\" class=\"dataframe\">\n",
       "  <thead>\n",
       "    <tr style=\"text-align: right;\">\n",
       "      <th></th>\n",
       "      <th>propertyId</th>\n",
       "      <th>propertyName</th>\n",
       "      <th>zipCode</th>\n",
       "      <th>address</th>\n",
       "      <th>city</th>\n",
       "      <th>state</th>\n",
       "      <th>averageSquareFootage</th>\n",
       "      <th>stories</th>\n",
       "      <th>stable</th>\n",
       "      <th>class</th>\n",
       "      <th>...</th>\n",
       "      <th>unitcount</th>\n",
       "      <th>yearBuilt</th>\n",
       "      <th>metricData</th>\n",
       "      <th>MPF-ANN-RENT-CHG</th>\n",
       "      <th>MPF-RPSF</th>\n",
       "      <th>MPF-RENT</th>\n",
       "      <th>MPF-OCC</th>\n",
       "      <th>MPF-HIST-CONC-RATIO</th>\n",
       "      <th>MPF-HIST-AVG-ASK-RPSF</th>\n",
       "      <th>MPF-HIST-ASK-RENT</th>\n",
       "    </tr>\n",
       "  </thead>\n",
       "  <tbody>\n",
       "    <tr>\n",
       "      <th>0</th>\n",
       "      <td>7971</td>\n",
       "      <td>Copperwood Apartments</td>\n",
       "      <td>80003</td>\n",
       "      <td>8200 Sheridan Boulevard</td>\n",
       "      <td>Westminster</td>\n",
       "      <td>CO</td>\n",
       "      <td>650</td>\n",
       "      <td>2</td>\n",
       "      <td>stable</td>\n",
       "      <td>B</td>\n",
       "      <td>...</td>\n",
       "      <td>360</td>\n",
       "      <td>1971</td>\n",
       "      <td>[{'metricCode': 'MPF-ANN-RENT-CHG', 'metricVal...</td>\n",
       "      <td>0.0458</td>\n",
       "      <td>2.302</td>\n",
       "      <td>1497</td>\n",
       "      <td>0.950</td>\n",
       "      <td>NaN</td>\n",
       "      <td>2.302</td>\n",
       "      <td>1497</td>\n",
       "    </tr>\n",
       "    <tr>\n",
       "      <th>1</th>\n",
       "      <td>8544</td>\n",
       "      <td>The Lodge</td>\n",
       "      <td>80246</td>\n",
       "      <td>4697 E Louisiana Ave</td>\n",
       "      <td>Denver</td>\n",
       "      <td>CO</td>\n",
       "      <td>714</td>\n",
       "      <td>2</td>\n",
       "      <td>stable</td>\n",
       "      <td>B</td>\n",
       "      <td>...</td>\n",
       "      <td>284</td>\n",
       "      <td>1969</td>\n",
       "      <td>[{'metricCode': 'MPF-RPSF', 'metricValue': 2.0...</td>\n",
       "      <td>0.0361</td>\n",
       "      <td>2.065</td>\n",
       "      <td>1475</td>\n",
       "      <td>0.958</td>\n",
       "      <td>NaN</td>\n",
       "      <td>2.065</td>\n",
       "      <td>1475</td>\n",
       "    </tr>\n",
       "    <tr>\n",
       "      <th>2</th>\n",
       "      <td>8765</td>\n",
       "      <td>Garden Center</td>\n",
       "      <td>80020</td>\n",
       "      <td>70 Garden Center</td>\n",
       "      <td>Broomfield</td>\n",
       "      <td>CO</td>\n",
       "      <td>519</td>\n",
       "      <td>3</td>\n",
       "      <td>stable</td>\n",
       "      <td>B</td>\n",
       "      <td>...</td>\n",
       "      <td>197</td>\n",
       "      <td>1973</td>\n",
       "      <td>[{'metricCode': 'MPF-HIST-ASK-RENT', 'metricVa...</td>\n",
       "      <td>0.0000</td>\n",
       "      <td>2.410</td>\n",
       "      <td>1252</td>\n",
       "      <td>0.939</td>\n",
       "      <td>NaN</td>\n",
       "      <td>2.410</td>\n",
       "      <td>1252</td>\n",
       "    </tr>\n",
       "    <tr>\n",
       "      <th>3</th>\n",
       "      <td>8770</td>\n",
       "      <td>Village Creek at Brookhill</td>\n",
       "      <td>80021</td>\n",
       "      <td>9052 Vance St</td>\n",
       "      <td>Westminster</td>\n",
       "      <td>CO</td>\n",
       "      <td>686</td>\n",
       "      <td>3</td>\n",
       "      <td>stable</td>\n",
       "      <td>B</td>\n",
       "      <td>...</td>\n",
       "      <td>324</td>\n",
       "      <td>1987</td>\n",
       "      <td>[{'metricCode': 'MPF-RPSF', 'metricValue': 2.3...</td>\n",
       "      <td>0.0151</td>\n",
       "      <td>2.308</td>\n",
       "      <td>1584</td>\n",
       "      <td>0.957</td>\n",
       "      <td>NaN</td>\n",
       "      <td>2.308</td>\n",
       "      <td>1584</td>\n",
       "    </tr>\n",
       "    <tr>\n",
       "      <th>4</th>\n",
       "      <td>8771</td>\n",
       "      <td>Park Place on 92nd</td>\n",
       "      <td>80260</td>\n",
       "      <td>9081 Federal Blvd</td>\n",
       "      <td>Westminster</td>\n",
       "      <td>CO</td>\n",
       "      <td>793</td>\n",
       "      <td>3</td>\n",
       "      <td>stable</td>\n",
       "      <td>B</td>\n",
       "      <td>...</td>\n",
       "      <td>228</td>\n",
       "      <td>1974</td>\n",
       "      <td>[{'metricCode': 'MPF-OCC', 'metricValue': 0.93...</td>\n",
       "      <td>-0.0003</td>\n",
       "      <td>2.025</td>\n",
       "      <td>1607</td>\n",
       "      <td>0.930</td>\n",
       "      <td>NaN</td>\n",
       "      <td>2.025</td>\n",
       "      <td>1607</td>\n",
       "    </tr>\n",
       "  </tbody>\n",
       "</table>\n",
       "<p>5 rows × 25 columns</p>\n",
       "</div>"
      ],
      "text/plain": [
       "   propertyId                propertyName zipCode                  address  \\\n",
       "0        7971       Copperwood Apartments   80003  8200 Sheridan Boulevard   \n",
       "1        8544                   The Lodge   80246     4697 E Louisiana Ave   \n",
       "2        8765               Garden Center   80020         70 Garden Center   \n",
       "3        8770  Village Creek at Brookhill   80021            9052 Vance St   \n",
       "4        8771          Park Place on 92nd   80260        9081 Federal Blvd   \n",
       "\n",
       "          city state  averageSquareFootage stories  stable class  ...  \\\n",
       "0  Westminster    CO                   650       2  stable     B  ...   \n",
       "1       Denver    CO                   714       2  stable     B  ...   \n",
       "2   Broomfield    CO                   519       3  stable     B  ...   \n",
       "3  Westminster    CO                   686       3  stable     B  ...   \n",
       "4  Westminster    CO                   793       3  stable     B  ...   \n",
       "\n",
       "  unitcount yearBuilt                                         metricData  \\\n",
       "0       360      1971  [{'metricCode': 'MPF-ANN-RENT-CHG', 'metricVal...   \n",
       "1       284      1969  [{'metricCode': 'MPF-RPSF', 'metricValue': 2.0...   \n",
       "2       197      1973  [{'metricCode': 'MPF-HIST-ASK-RENT', 'metricVa...   \n",
       "3       324      1987  [{'metricCode': 'MPF-RPSF', 'metricValue': 2.3...   \n",
       "4       228      1974  [{'metricCode': 'MPF-OCC', 'metricValue': 0.93...   \n",
       "\n",
       "  MPF-ANN-RENT-CHG MPF-RPSF  MPF-RENT MPF-OCC MPF-HIST-CONC-RATIO  \\\n",
       "0           0.0458    2.302      1497   0.950                 NaN   \n",
       "1           0.0361    2.065      1475   0.958                 NaN   \n",
       "2           0.0000    2.410      1252   0.939                 NaN   \n",
       "3           0.0151    2.308      1584   0.957                 NaN   \n",
       "4          -0.0003    2.025      1607   0.930                 NaN   \n",
       "\n",
       "   MPF-HIST-AVG-ASK-RPSF  MPF-HIST-ASK-RENT  \n",
       "0                  2.302               1497  \n",
       "1                  2.065               1475  \n",
       "2                  2.410               1252  \n",
       "3                  2.308               1584  \n",
       "4                  2.025               1607  \n",
       "\n",
       "[5 rows x 25 columns]"
      ]
     },
     "execution_count": 54,
     "metadata": {},
     "output_type": "execute_result"
    }
   ],
   "source": [
    "# Iterate and \n",
    "rp_properties_init_df = pd.DataFrame(properties_list.json())\n",
    "# Convert metricData to key:value pairs from metricCode and metricValue\n",
    "def convert_list_to_keyvalue(x: list):\n",
    "    d = {}\n",
    "    for x_item in x:\n",
    "        d[x_item['metricCode']] = x_item['metricValue']\n",
    "    return d\n",
    "metric_aux_df = pd.json_normalize(rp_properties_init_df['metricData'].apply(convert_list_to_keyvalue))\n",
    "rp_properties_df = pd.concat([rp_properties_init_df, metric_aux_df], axis = 1)\n",
    "print(rp_properties_df.shape)\n",
    "rp_properties_df.head()"
   ]
  },
  {
   "cell_type": "code",
   "execution_count": 55,
   "metadata": {},
   "outputs": [
    {
     "data": {
      "text/plain": [
       "propertyId                 int64\n",
       "propertyName              object\n",
       "zipCode                   object\n",
       "address                   object\n",
       "city                      object\n",
       "state                     object\n",
       "averageSquareFootage       int64\n",
       "stories                   object\n",
       "stable                    object\n",
       "class                     object\n",
       "latitude                  object\n",
       "longitude                 object\n",
       "imageHero                 object\n",
       "heroSource                object\n",
       "submarketName             object\n",
       "unitcount                  int64\n",
       "yearBuilt                 object\n",
       "metricData                object\n",
       "MPF-ANN-RENT-CHG         float64\n",
       "MPF-RPSF                 float64\n",
       "MPF-RENT                   int64\n",
       "MPF-OCC                  float64\n",
       "MPF-HIST-CONC-RATIO      float64\n",
       "MPF-HIST-AVG-ASK-RPSF    float64\n",
       "MPF-HIST-ASK-RENT          int64\n",
       "dtype: object"
      ]
     },
     "execution_count": 55,
     "metadata": {},
     "output_type": "execute_result"
    }
   ],
   "source": [
    "rp_properties_df.dtypes"
   ]
  },
  {
   "cell_type": "code",
   "execution_count": 15,
   "metadata": {},
   "outputs": [
    {
     "data": {
      "text/plain": [
       "[{'metricCode': 'MPF-ANN-RENT-CHG',\n",
       "  'metricValue': 0.0458,\n",
       "  'metricValueFormatted': '4.58%'},\n",
       " {'metricCode': 'MPF-RPSF',\n",
       "  'metricValue': 2.302,\n",
       "  'metricValueFormatted': '$2.302'},\n",
       " {'metricCode': 'MPF-RENT',\n",
       "  'metricValue': 1497,\n",
       "  'metricValueFormatted': '$1,497'},\n",
       " {'metricCode': 'MPF-OCC',\n",
       "  'metricValue': 0.95,\n",
       "  'metricValueFormatted': '95.0%'},\n",
       " {'metricCode': 'MPF-HIST-CONC-RATIO',\n",
       "  'metricValue': None,\n",
       "  'metricValueFormatted': None},\n",
       " {'metricCode': 'MPF-HIST-AVG-ASK-RPSF',\n",
       "  'metricValue': 2.302,\n",
       "  'metricValueFormatted': '$2.302'},\n",
       " {'metricCode': 'MPF-HIST-ASK-RENT',\n",
       "  'metricValue': 1497,\n",
       "  'metricValueFormatted': '$1,497'}]"
      ]
     },
     "execution_count": 15,
     "metadata": {},
     "output_type": "execute_result"
    }
   ],
   "source": [
    "rp_properties_df.iloc[0]['metricData']"
   ]
  },
  {
   "cell_type": "code",
   "execution_count": 16,
   "metadata": {},
   "outputs": [
    {
     "data": {
      "text/html": [
       "<div>\n",
       "<style scoped>\n",
       "    .dataframe tbody tr th:only-of-type {\n",
       "        vertical-align: middle;\n",
       "    }\n",
       "\n",
       "    .dataframe tbody tr th {\n",
       "        vertical-align: top;\n",
       "    }\n",
       "\n",
       "    .dataframe thead th {\n",
       "        text-align: right;\n",
       "    }\n",
       "</style>\n",
       "<table border=\"1\" class=\"dataframe\">\n",
       "  <thead>\n",
       "    <tr style=\"text-align: right;\">\n",
       "      <th></th>\n",
       "      <th>averageSquareFootage</th>\n",
       "      <th>unitcount</th>\n",
       "    </tr>\n",
       "  </thead>\n",
       "  <tbody>\n",
       "    <tr>\n",
       "      <th>count</th>\n",
       "      <td>825.000000</td>\n",
       "      <td>825.000000</td>\n",
       "    </tr>\n",
       "    <tr>\n",
       "      <th>mean</th>\n",
       "      <td>858.210909</td>\n",
       "      <td>248.783030</td>\n",
       "    </tr>\n",
       "    <tr>\n",
       "      <th>std</th>\n",
       "      <td>155.880296</td>\n",
       "      <td>139.173323</td>\n",
       "    </tr>\n",
       "    <tr>\n",
       "      <th>min</th>\n",
       "      <td>365.000000</td>\n",
       "      <td>10.000000</td>\n",
       "    </tr>\n",
       "    <tr>\n",
       "      <th>25%</th>\n",
       "      <td>767.000000</td>\n",
       "      <td>148.000000</td>\n",
       "    </tr>\n",
       "    <tr>\n",
       "      <th>50%</th>\n",
       "      <td>864.000000</td>\n",
       "      <td>239.000000</td>\n",
       "    </tr>\n",
       "    <tr>\n",
       "      <th>75%</th>\n",
       "      <td>942.000000</td>\n",
       "      <td>322.000000</td>\n",
       "    </tr>\n",
       "    <tr>\n",
       "      <th>max</th>\n",
       "      <td>1798.000000</td>\n",
       "      <td>1519.000000</td>\n",
       "    </tr>\n",
       "  </tbody>\n",
       "</table>\n",
       "</div>"
      ],
      "text/plain": [
       "       averageSquareFootage    unitcount\n",
       "count            825.000000   825.000000\n",
       "mean             858.210909   248.783030\n",
       "std              155.880296   139.173323\n",
       "min              365.000000    10.000000\n",
       "25%              767.000000   148.000000\n",
       "50%              864.000000   239.000000\n",
       "75%              942.000000   322.000000\n",
       "max             1798.000000  1519.000000"
      ]
     },
     "execution_count": 16,
     "metadata": {},
     "output_type": "execute_result"
    }
   ],
   "source": [
    "rp_properties_df[['averageSquareFootage', 'unitcount']].describe()"
   ]
  },
  {
   "cell_type": "code",
   "execution_count": 18,
   "metadata": {},
   "outputs": [
    {
     "data": {
      "text/plain": [
       "unitcount    205246\n",
       "dtype: int64"
      ]
     },
     "execution_count": 18,
     "metadata": {},
     "output_type": "execute_result"
    }
   ],
   "source": [
    "rp_properties_df[['unitcount']].sum() \n",
    "# 205k units under realpage\n",
    "# https://denverite.com/2024/01/16/denver-metro-apartment-rent-vacancy-rate-2023/ 414k in Denver metro overall \n",
    "# So, ~half are covered."
   ]
  },
  {
   "cell_type": "code",
   "execution_count": 19,
   "metadata": {},
   "outputs": [
    {
     "name": "stdout",
     "output_type": "stream",
     "text": [
      "stories\n",
      "1       5\n",
      "2     138\n",
      "3     359\n",
      "4     114\n",
      "5      90\n",
      "6      26\n",
      "7      17\n",
      "8      22\n",
      "9       5\n",
      "10      3\n",
      "11      6\n",
      "12     10\n",
      "13      6\n",
      "14      6\n",
      "15      3\n",
      "16      3\n",
      "17      1\n",
      "18      1\n",
      "19      1\n",
      "21      2\n",
      "24      1\n",
      "25      1\n",
      "28      1\n",
      "31      1\n",
      "32      1\n",
      "35      1\n",
      "37      1\n",
      "Name: count, dtype: int64\n"
     ]
    },
    {
     "data": {
      "text/plain": [
       "<Axes: ylabel='Frequency'>"
      ]
     },
     "execution_count": 19,
     "metadata": {},
     "output_type": "execute_result"
    },
    {
     "data": {
      "image/png": "[encoded data removed]",
      "text/plain": [
       "<Figure size 640x480 with 1 Axes>"
      ]
     },
     "metadata": {},
     "output_type": "display_data"
    }
   ],
   "source": [
    "# Number of stories\n",
    "print(rp_properties_df['stories'].astype(int).value_counts(dropna=False).sort_index())\n",
    "rp_properties_df['stories'].astype(int).plot.hist()"
   ]
  },
  {
   "cell_type": "code",
   "execution_count": 20,
   "metadata": {},
   "outputs": [
    {
     "name": "stdout",
     "output_type": "stream",
     "text": [
      "class\n",
      "A       185\n",
      "B       410\n",
      "C       229\n",
      "None      1\n",
      "Name: count, dtype: int64\n"
     ]
    }
   ],
   "source": [
    "# Property class typers\n",
    "print(rp_properties_df['class'].value_counts(dropna=False).sort_index())\n",
    "# rp_properties_df['class'].astype(int).plot.hist()"
   ]
  },
  {
   "cell_type": "code",
   "execution_count": 21,
   "metadata": {},
   "outputs": [
    {
     "name": "stdout",
     "output_type": "stream",
     "text": [
      "yearBuilt\n",
      "1909     1\n",
      "1924     1\n",
      "1933     1\n",
      "1935     2\n",
      "1940     1\n",
      "        ..\n",
      "2018    47\n",
      "2019    34\n",
      "2020    40\n",
      "2021    23\n",
      "2022    24\n",
      "Name: count, Length: 70, dtype: int64\n"
     ]
    },
    {
     "data": {
      "text/plain": [
       "<Axes: ylabel='Frequency'>"
      ]
     },
     "execution_count": 21,
     "metadata": {},
     "output_type": "execute_result"
    },
    {
     "data": {
      "image/png": "[encoded data removed]",
      "text/plain": [
       "<Figure size 640x480 with 1 Axes>"
      ]
     },
     "metadata": {},
     "output_type": "display_data"
    }
   ],
   "source": [
    "# Year Built\n",
    "print(rp_properties_df['yearBuilt'].astype(int).value_counts(dropna=False).sort_index())\n",
    "rp_properties_df['yearBuilt'].astype(int).plot.hist()"
   ]
  },
  {
   "cell_type": "code",
   "execution_count": 22,
   "metadata": {},
   "outputs": [
    {
     "name": "stdout",
     "output_type": "stream",
     "text": [
      "unitcount\n",
      "10      1\n",
      "12      2\n",
      "21      1\n",
      "23      2\n",
      "24      2\n",
      "       ..\n",
      "710     1\n",
      "727     1\n",
      "760     1\n",
      "959     1\n",
      "1519    1\n",
      "Name: count, Length: 358, dtype: int64\n"
     ]
    },
    {
     "data": {
      "text/plain": [
       "<Axes: ylabel='Frequency'>"
      ]
     },
     "execution_count": 22,
     "metadata": {},
     "output_type": "execute_result"
    },
    {
     "data": {
      "image/png": "[encoded data removed]",
      "text/plain": [
       "<Figure size 640x480 with 1 Axes>"
      ]
     },
     "metadata": {},
     "output_type": "display_data"
    }
   ],
   "source": [
    "# Units\n",
    "print(rp_properties_df['unitcount'].astype(int).value_counts(dropna=False).sort_index())\n",
    "rp_properties_df['unitcount'].astype(int).plot.hist(bins=40)"
   ]
  },
  {
   "cell_type": "code",
   "execution_count": 56,
   "metadata": {},
   "outputs": [
    {
     "data": {
      "text/plain": [
       "<Axes: ylabel='Frequency'>"
      ]
     },
     "execution_count": 56,
     "metadata": {},
     "output_type": "execute_result"
    },
    {
     "data": {
      "image/png": "[encoded data removed]",
      "text/plain": [
       "<Figure size 640x480 with 1 Axes>"
      ]
     },
     "metadata": {},
     "output_type": "display_data"
    }
   ],
   "source": [
    "# Price / sq distribution\n",
    "rp_properties_df['MPF-RPSF'].astype(float).plot.hist(bins=40)"
   ]
  },
  {
   "cell_type": "code",
   "execution_count": 60,
   "metadata": {},
   "outputs": [
    {
     "name": "stdout",
     "output_type": "stream",
     "text": [
      "       count      mean       std    min      25%     50%    75%    max\n",
      "class                                                                 \n",
      "A      185.0  2.684065  0.301631  2.159  2.48600  2.6120  2.799  4.427\n",
      "B      410.0  2.160561  0.123838  1.782  2.06125  2.1545  2.248  2.516\n",
      "C      229.0  1.847786  0.134632  1.221  1.76000  1.8690  1.949  2.175\n"
     ]
    },
    {
     "data": {
      "text/plain": [
       "class\n",
       "A    Axes(0.125,0.11;0.775x0.77)\n",
       "B    Axes(0.125,0.11;0.775x0.77)\n",
       "C    Axes(0.125,0.11;0.775x0.77)\n",
       "Name: MPF-RPSF, dtype: object"
      ]
     },
     "execution_count": 60,
     "metadata": {},
     "output_type": "execute_result"
    },
    {
     "data": {
      "image/png": "[encoded data removed]",
      "text/plain": [
       "<Figure size 640x480 with 1 Axes>"
      ]
     },
     "metadata": {},
     "output_type": "display_data"
    }
   ],
   "source": [
    "# Price / sq distribution grouped by class\n",
    "print(rp_properties_df.groupby('class')['MPF-RPSF'].describe())\n",
    "rp_properties_df.groupby('class')['MPF-RPSF'].plot.hist(bins=40)"
   ]
  },
  {
   "cell_type": "code",
   "execution_count": null,
   "metadata": {},
   "outputs": [],
   "source": []
  },
  {
   "cell_type": "code",
   "execution_count": null,
   "metadata": {},
   "outputs": [],
   "source": []
  },
  {
   "cell_type": "code",
   "execution_count": null,
   "metadata": {},
   "outputs": [],
   "source": []
  }
 ],
 "metadata": {
  "kernelspec": {
   "display_name": ".venv",
   "language": "python",
   "name": "python3"
  },
  "language_info": {
   "codemirror_mode": {
    "name": "ipython",
    "version": 3
   },
   "file_extension": ".py",
   "mimetype": "text/x-python",
   "name": "python",
   "nbconvert_exporter": "python",
   "pygments_lexer": "ipython3",
   "version": "3.10.8"
  }
 },
 "nbformat": 4,
 "nbformat_minor": 2
}
